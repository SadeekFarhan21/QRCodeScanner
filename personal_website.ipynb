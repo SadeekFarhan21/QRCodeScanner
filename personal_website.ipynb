{
 "cells": [
  {
   "cell_type": "code",
   "execution_count": 1,
   "metadata": {},
   "outputs": [],
   "source": [
    "import segno\n",
    "qrcode = segno.make_qr(\"https://sadeekfarhan21.github.io/\").save('personal_website.png', scale = 10, border = 5, dark = 'darkblue')"
   ]
  },
  {
   "cell_type": "code",
   "execution_count": 2,
   "metadata": {},
   "outputs": [
    {
     "name": "stderr",
     "output_type": "stream",
     "text": [
      "C:\\Users\\Farhan\\AppData\\Local\\Temp\\ipykernel_28456\\4035473607.py:12: DeprecationWarning: textsize is deprecated and will be removed in Pillow 10 (2023-07-01). Use textbbox or textlength instead.\n",
      "  text_width, text_height = draw.textsize(text, font)\n"
     ]
    }
   ],
   "source": [
    "from PIL import Image, ImageDraw, ImageFont\n",
    "\n",
    "# Open the generated QR code image\n",
    "image = Image.open(\"personal_website.png\")\n",
    "draw = ImageDraw.Draw(image)\n",
    "\n",
    "# Define the text to be written\n",
    "text = \"Personal Website\"\n",
    "font = ImageFont.truetype(\"arial.ttf\", 35)  # You may need to change the font and size\n",
    "\n",
    "# Calculate the size of the text\n",
    "text_width, text_height = draw.textsize(text, font)\n",
    "\n",
    "# Calculate the position to place the text at the bottom center\n",
    "image_width, image_height = image.size\n",
    "\n",
    "# Define border sizes\n",
    "top_border = 0\n",
    "bottom_border = 50  # Adjust this value to increase or decrease the bottom border\n",
    "side_border = 0\n",
    "\n",
    "# Create a new image with extended bottom border\n",
    "new_image = Image.new(\"RGB\", (image_width, image_height + bottom_border), color=\"white\")\n",
    "new_image.paste(image, (0, 0))\n",
    "\n",
    "# Draw the text on the new image\n",
    "draw = ImageDraw.Draw(new_image)\n",
    "text_position = ((image_width - text_width) // 2, image_height + bottom_border - text_height - 20)  # Adjust 10 for padding\n",
    "draw.text(text_position, text, font=font, fill=\"black\")\n",
    "\n",
    "# Save the modified image\n",
    "new_image.save(\"personal_website.png\")\n"
   ]
  }
 ],
 "metadata": {
  "kernelspec": {
   "display_name": "Python 3",
   "language": "python",
   "name": "python3"
  },
  "language_info": {
   "codemirror_mode": {
    "name": "ipython",
    "version": 3
   },
   "file_extension": ".py",
   "mimetype": "text/x-python",
   "name": "python",
   "nbconvert_exporter": "python",
   "pygments_lexer": "ipython3",
   "version": "3.11.7"
  }
 },
 "nbformat": 4,
 "nbformat_minor": 2
}
